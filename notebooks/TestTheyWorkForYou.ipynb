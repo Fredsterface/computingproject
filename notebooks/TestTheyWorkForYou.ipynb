{
 "cells": [
  {
   "cell_type": "markdown",
   "id": "b967f63e",
   "metadata": {},
   "source": [
    "# key for theyworkforyou API\n",
    "DN8s9LBm8jMBFZihXEG2gqzx"
   ]
  },
  {
   "cell_type": "code",
   "execution_count": 1,
   "id": "1e7b1e31",
   "metadata": {},
   "outputs": [],
   "source": [
    "APIkey = 'DN8s9LBm8jMBFZihXEG2gqzx'"
   ]
  },
  {
   "cell_type": "code",
   "execution_count": 2,
   "id": "2b1b85c1",
   "metadata": {},
   "outputs": [],
   "source": [
    "import requests"
   ]
  },
  {
   "cell_type": "code",
   "execution_count": 3,
   "id": "457ef0c7",
   "metadata": {},
   "outputs": [],
   "source": [
    "def getQuota():\n",
    "    quotaurl = 'https://www.theyworkforyou.com/api/getQuota'\n",
    "    response = requests.get(quotaurl, params={'key':APIkey})\n",
    "    return response.json()['quota']"
   ]
  },
  {
   "cell_type": "code",
   "execution_count": 4,
   "id": "293760cc",
   "metadata": {},
   "outputs": [
    {
     "data": {
      "text/plain": [
       "{'limit': 1000, 'current': 0}"
      ]
     },
     "execution_count": 4,
     "metadata": {},
     "output_type": "execute_result"
    }
   ],
   "source": [
    "getQuota()"
   ]
  },
  {
   "cell_type": "code",
   "execution_count": 6,
   "id": "6d385a45",
   "metadata": {},
   "outputs": [
    {
     "data": {
      "text/plain": [
       "True"
      ]
     },
     "execution_count": 6,
     "metadata": {},
     "output_type": "execute_result"
    }
   ],
   "source": [
    "postcodes_uk.validate('GL205FL')"
   ]
  },
  {
   "cell_type": "code",
   "execution_count": 31,
   "id": "9a306250",
   "metadata": {},
   "outputs": [],
   "source": [
    "import requests\n",
    "import postcodes_uk\n",
    "\n",
    "def is_valid_postcode(postcode):\n",
    "    \"\"\"\n",
    "    This function takes one argument and returns True or False.\n",
    "    \n",
    "    Args:\n",
    "    postcode (str): The postcode\n",
    "    \n",
    "    Returns:\n",
    "    bool: True if a valid postcode, otherwise returns False.\n",
    "    \"\"\"\n",
    "    #making sure the postcode is in uppercase, required for validation\n",
    "    postcode = postcode.upper()\n",
    "    # using the postcodes_uk library to validate the postcode\n",
    "    ret = postcodes_uk.validate(postcode)\n",
    "    return ret\n",
    "\n",
    "def get_MP_info(postcode_or_constituency):\n",
    "    \"\"\"\n",
    "    This function takes one argument, either the postcode or the constituency name, and returns the MP information from Hansard.\n",
    "    \n",
    "    Args:\n",
    "    postcode_or_constituency (str): Postcode or a Constituency\n",
    "    \n",
    "    Returns:\n",
    "    dict: The MP information from Hansard\n",
    "    \"\"\"\n",
    "    # checks to see in the input is a valid postcode\n",
    "    params = {'key':APIkey}\n",
    "    if is_valid_postcode(postcode_or_constituency):\n",
    "        params['postcode'] = postcode_or_constituency\n",
    "    else:\n",
    "        params['constituency'] = postcode_or_constituency\n",
    "    \n",
    "    url = 'https://www.theyworkforyou.com/api/getMP'\n",
    "    response = requests.get(url, params=params)\n",
    "    return response.json()"
   ]
  },
  {
   "cell_type": "code",
   "execution_count": 32,
   "id": "7d659d08",
   "metadata": {},
   "outputs": [],
   "source": [
    "MP_info = get_MP_info('Tewkesbury')"
   ]
  },
  {
   "cell_type": "code",
   "execution_count": 33,
   "id": "755d74e1",
   "metadata": {},
   "outputs": [
    {
     "data": {
      "text/plain": [
       "{'member_id': '42617',\n",
       " 'house': '1',\n",
       " 'constituency': 'Tewkesbury',\n",
       " 'party': 'Conservative',\n",
       " 'entered_house': '2019-12-13',\n",
       " 'left_house': '9999-12-31',\n",
       " 'entered_reason': 'general_election',\n",
       " 'left_reason': 'still_in_office',\n",
       " 'person_id': '10505',\n",
       " 'lastupdate': '2019-12-13 05:21:12',\n",
       " 'title': '',\n",
       " 'given_name': 'Laurence',\n",
       " 'family_name': 'Robertson',\n",
       " 'full_name': 'Laurence Robertson',\n",
       " 'url': '/mp/10505/laurence_robertson/tewkesbury',\n",
       " 'image': '/people-images/mpsL/10505.jpg',\n",
       " 'image_height': 160,\n",
       " 'image_width': 120,\n",
       " 'office': [{'moffice_id': 'uk.parliament.data/Member/253/Committee/11/1',\n",
       "   'dept': 'Panel of Chairs',\n",
       "   'position': 'Member',\n",
       "   'from_date': '2020-01-15',\n",
       "   'to_date': '9999-12-31',\n",
       "   'person': '10505',\n",
       "   'source': ''}]}"
      ]
     },
     "execution_count": 33,
     "metadata": {},
     "output_type": "execute_result"
    }
   ],
   "source": [
    "MP_info"
   ]
  },
  {
   "cell_type": "code",
   "execution_count": 68,
   "id": "7cf3b019",
   "metadata": {},
   "outputs": [
    {
     "data": {
      "text/plain": [
       "<Response [200]>"
      ]
     },
     "execution_count": 68,
     "metadata": {},
     "output_type": "execute_result"
    }
   ],
   "source": [
    "personID = MP_info['person_id']\n",
    "params = {'key':APIkey}\n",
    "params['person'] = personID\n",
    "#params['num'] = \"100\"\n",
    "url = 'https://www.theyworkforyou.com/api/getHansard'\n",
    "response = requests.get(url, params=params)\n",
    "response"
   ]
  },
  {
   "cell_type": "code",
   "execution_count": 56,
   "id": "39750668",
   "metadata": {},
   "outputs": [
    {
     "data": {
      "text/plain": [
       "'10505'"
      ]
     },
     "execution_count": 56,
     "metadata": {},
     "output_type": "execute_result"
    }
   ],
   "source": [
    "personID"
   ]
  },
  {
   "cell_type": "code",
   "execution_count": 73,
   "id": "594e950e",
   "metadata": {},
   "outputs": [],
   "source": [
    "def get_Hansard(person_id):\n",
    "    \"\"\"\n",
    "    This function takes one argument and returns the MP's person ID from Hansard.\n",
    "    \n",
    "    Args:\n",
    "    personID (int): gets the relevant data from Hansard\n",
    "    \n",
    "    Returns:\n",
    "    dict: The information from Hansard about the person_id\n",
    "    \"\"\"\n",
    "    params = {'key':APIkey}\n",
    "    params['person'] = person_id\n",
    "    url = 'https://www.theyworkforyou.com/api/getHansard'\n",
    "    response = requests.get(url, params=params)\n",
    "    data = response.json()\n",
    "    params['page'] = 1\n",
    "    # loops until we have all the pages\n",
    "    while True:\n",
    "        params['page'] += 1\n",
    "        response = requests.get(url, params=params)\n",
    "        data0 = response.json()\n",
    "        if len(data0['rows']) == 0:\n",
    "            break\n",
    "        data['rows'].extend(data0['rows'])\n",
    "    return data"
   ]
  },
  {
   "cell_type": "code",
   "execution_count": 75,
   "id": "65905341",
   "metadata": {},
   "outputs": [],
   "source": [
    "data = get_Hansard(MP_info['person_id'])"
   ]
  },
  {
   "cell_type": "code",
   "execution_count": 85,
   "id": "a5679821",
   "metadata": {},
   "outputs": [
    {
     "data": {
      "text/plain": [
       "54"
      ]
     },
     "execution_count": 85,
     "metadata": {},
     "output_type": "execute_result"
    }
   ],
   "source": [
    "import numpy as np\n",
    "np.argmax([len(x['body']) for x in data['rows'][:128]])"
   ]
  },
  {
   "cell_type": "code",
   "execution_count": 86,
   "id": "712bff12",
   "metadata": {},
   "outputs": [
    {
     "data": {
      "text/plain": [
       "{'gid': '2022-11-16a.319.2',\n",
       " 'hdate': '2022-11-16',\n",
       " 'htime': '16:36:00',\n",
       " 'section_id': '27686696',\n",
       " 'subsection_id': '27686696',\n",
       " 'htype': '12',\n",
       " 'major': '2',\n",
       " 'minor': '0',\n",
       " 'person_id': '10505',\n",
       " 'hpos': '90',\n",
       " 'video_status': '0',\n",
       " 'epobject_id': '27686700',\n",
       " 'body': '<p pid=\"a319.2/1\">It is a pleasure to serve under your chairmanship, Sir Gary.  It is also a pleasure to see my right hon. Friend <phrase class=\"honfriend\" name=\"Andrew Mitchell\" person_id=\"uk.org.publicwhip/person/11115\">the  Member for Sutton Coldfield (Mr Mitchell)</phrase> back in the Government. Like me, he greatly values the effect that British aid has had over very many years and wants it to continue. I know he takes a deep interest in these subjects, as does my hon. Friend <phrase class=\"honfriend\" name=\"James Duddridge\" person_id=\"uk.org.publicwhip/person/11785\">the Member for Rochford and Southend East (Sir James Duddridge)</phrase>&#8212;it is really good to see him in the debate.</p><p pid=\"a319.2/2\">We have held a number of debates on Ethiopia. I have secured an urgent question and have taken part in the debates. I have chaired the all-party parliamentary group on Ethiopia for a dozen years or so, and I continue to take a deep interest in the country. I am very sorry to see what has been happening over the past few years. I was at the Ethiopian embassy two weeks ago. The ceasefire had been announced the night before; it was a very moving moment and there was a lot of hope. I am very hopeful that we can make progress. <phrase class=\"honfriend\" name=\"Rosie Duffield\" person_id=\"uk.org.publicwhip/person/25656\">The hon. Member for Canterbury (Rosie Duffield)</phrase> set out the case for peace and spoke movingly. I congratulate her on securing this debate.</p><p pid=\"a319.2/3\">The tragedy of the conflict is that Ethiopia has held together for so long, despite having very sizeable Christian and Muslim populations and something like 80 tribes and 80 languages. Yes, Eritrea broke away many years ago, but Ethiopia has been very peaceful. It has had great economic success, with growth rates that we in the west would envy, and is one of the safest countries to walk around. That is the tragedy.</p><p pid=\"a319.2/4\">I have called constantly for the UN and the African Union to take more of an interest than they appear to have been taking, although there has been a good deal of success recently from the work carried out by the African Union. We now need to make sure that is followed through and the peace holds. Both sides and Eritrea are accountable for that. They have to make sure the peace holds for the very reasons that the hon. Lady set out. We have to make sure food, medical supplies and everything else that is needed in that part of Ethiopia gets through to Tigray.</p><p pid=\"a319.2/5\">I say this slightly reluctantly, but it is important that the west is not seen to lecture developing countries because we have had our own problems. We had 30 years of conflict in Northern Ireland, and we saw what that did to morale; it destroyed futures. We saw what it did through the 3,000 or so lives that it took. We saw the effect that had on the economy in Northern Ireland. At the worst of the troubles, the unemployment rate in Northern Ireland was something like 25%. That is what war and conflict does to a country. On that occasion in the embassy I said that, since we have had relative peace in Northern Ireland, we have had relative prosperity. Yes, there are problems, as we heard in the debate just a few minutes ago. But it is a far better place&#8212;it is almost unrecognisable from the place that it was. That is because the conflict was ended. I know that is the wish of the hon. Member for Canterbury, who very ably introduced this debate. I know it is the wish of everybody in Westminster Hall. It is certainly my wish. My call goes out to everybody involved to embrace peace and enjoy the benefits of peace.</p>',\n",
       " 'collapsed': 0,\n",
       " 'relevance': 100,\n",
       " 'extract': 'It is a pleasure to serve under your chairmanship, Sir Gary.  It is also a pleasure to see my right hon. Friend  the  Member for Sutton Coldfield (Mr Mitchell) back in the Government. Like me, he greatly values the effect that British aid has had over very many years and wants it to continue. I know he takes a deep interest in these subjects, as does my hon. Friend  the Member for Rochford...',\n",
       " 'listurl': '/whall/?id=2022-11-16a.318.0&amp;s=speaker%3A10505#g319.2',\n",
       " 'speaker': {'member_id': '42617',\n",
       "  'name': 'Laurence Robertson',\n",
       "  'house': '1',\n",
       "  'constituency': 'Tewkesbury',\n",
       "  'party': 'Conservative',\n",
       "  'person_id': '10505',\n",
       "  'url': '/mp/?p=10505',\n",
       "  'office': {}},\n",
       " 'parent': {'body': 'Conflict in Ethiopia'}}"
      ]
     },
     "execution_count": 86,
     "metadata": {},
     "output_type": "execute_result"
    }
   ],
   "source": [
    "data['rows'][54]"
   ]
  },
  {
   "cell_type": "code",
   "execution_count": 88,
   "id": "9d6fb6b1",
   "metadata": {},
   "outputs": [
    {
     "data": {
      "text/plain": [
       "'It is a pleasure to serve under your chairmanship, Sir Gary.  It is also a pleasure to see my right hon. Friend the  Member for Sutton Coldfield (Mr Mitchell) back in the Government. Like me, he greatly values the effect that British aid has had over very many years and wants it to continue. I know he takes a deep interest in these subjects, as does my hon. Friend the Member for Rochford and Southend East (Sir James Duddridge)—it is really good to see him in the debate.We have held a number of debates on Ethiopia. I have secured an urgent question and have taken part in the debates. I have chaired the all-party parliamentary group on Ethiopia for a dozen years or so, and I continue to take a deep interest in the country. I am very sorry to see what has been happening over the past few years. I was at the Ethiopian embassy two weeks ago. The ceasefire had been announced the night before; it was a very moving moment and there was a lot of hope. I am very hopeful that we can make progress. The hon. Member for Canterbury (Rosie Duffield) set out the case for peace and spoke movingly. I congratulate her on securing this debate.The tragedy of the conflict is that Ethiopia has held together for so long, despite having very sizeable Christian and Muslim populations and something like 80 tribes and 80 languages. Yes, Eritrea broke away many years ago, but Ethiopia has been very peaceful. It has had great economic success, with growth rates that we in the west would envy, and is one of the safest countries to walk around. That is the tragedy.I have called constantly for the UN and the African Union to take more of an interest than they appear to have been taking, although there has been a good deal of success recently from the work carried out by the African Union. We now need to make sure that is followed through and the peace holds. Both sides and Eritrea are accountable for that. They have to make sure the peace holds for the very reasons that the hon. Lady set out. We have to make sure food, medical supplies and everything else that is needed in that part of Ethiopia gets through to Tigray.I say this slightly reluctantly, but it is important that the west is not seen to lecture developing countries because we have had our own problems. We had 30 years of conflict in Northern Ireland, and we saw what that did to morale; it destroyed futures. We saw what it did through the 3,000 or so lives that it took. We saw the effect that had on the economy in Northern Ireland. At the worst of the troubles, the unemployment rate in Northern Ireland was something like 25%. That is what war and conflict does to a country. On that occasion in the embassy I said that, since we have had relative peace in Northern Ireland, we have had relative prosperity. Yes, there are problems, as we heard in the debate just a few minutes ago. But it is a far better place—it is almost unrecognisable from the place that it was. That is because the conflict was ended. I know that is the wish of the hon. Member for Canterbury, who very ably introduced this debate. I know it is the wish of everybody in Westminster Hall. It is certainly my wish. My call goes out to everybody involved to embrace peace and enjoy the benefits of peace.'"
      ]
     },
     "execution_count": 88,
     "metadata": {},
     "output_type": "execute_result"
    }
   ],
   "source": [
    "\n",
    "\n",
    "from bs4 import BeautifulSoup\n",
    "BeautifulSoup(data['rows'][54]['body'], \"html.parser\").text\n",
    "\n"
   ]
  },
  {
   "cell_type": "code",
   "execution_count": null,
   "id": "df75e4ca",
   "metadata": {},
   "outputs": [],
   "source": [
    "from bs4 import BeautifulSoup\n",
    "import string\n",
    "extracts = [BeautifulSoup(x['body'], 'html.parser').text.lower().translate(str.maketrans('', '', string.punctuation)) for x in data['rows']]"
   ]
  },
  {
   "cell_type": "code",
   "execution_count": null,
   "id": "12e7a894",
   "metadata": {},
   "outputs": [],
   "source": [
    "extracts[0]\n"
   ]
  },
  {
   "cell_type": "code",
   "execution_count": null,
   "id": "5652e77c",
   "metadata": {},
   "outputs": [],
   "source": [
    "extracts = [e for e in extracts if len(e) > 512]"
   ]
  },
  {
   "cell_type": "code",
   "execution_count": null,
   "id": "45f5ea8e",
   "metadata": {},
   "outputs": [],
   "source": [
    "100.0 * len([x for x in extracts if 'horse' in x]) / len(extracts)"
   ]
  },
  {
   "cell_type": "code",
   "execution_count": null,
   "id": "d2bf1078",
   "metadata": {},
   "outputs": [],
   "source": [
    "from wordcloud import WordCloud"
   ]
  },
  {
   "cell_type": "code",
   "execution_count": null,
   "id": "e4fbe2ac",
   "metadata": {},
   "outputs": [],
   "source": [
    "import matplotlib.pyplot as plt\n",
    "\n",
    "# lower max_font_size\n",
    "wc = WordCloud(max_font_size=40, background_color=\"black\")\n",
    "wc.stopwords = wc.stopwords.union({'speaker', 'secretary',\n",
    "                                   'state', 'statement',\n",
    "                                  'will', 'make', 'available'\n",
    "                                   'made', 'ask', 'steps', 'b',\n",
    "                                  'assessment', 'made', 'whether',\n",
    "                                  'ensure', 'taking', 'take',\n",
    "                                  'use', 'member', 'minister', 'friend', 'members', 'hon', 'mr','gentleman', 'lady', 'u', ';'})\n",
    "wordcloud = wc.generate('\\n'.join(extracts).lower())\n",
    "plt.figure( figsize=(25,15) )\n",
    "plt.imshow(wordcloud, interpolation=\"bilinear\")\n",
    "plt.axis(\"off\")\n",
    "plt.show()"
   ]
  },
  {
   "cell_type": "code",
   "execution_count": null,
   "id": "6f2e535c",
   "metadata": {},
   "outputs": [],
   "source": [
    "import nltk\n",
    "nltk.download(\"stopwords\")\n",
    "nltk.download(\"punkt\")\n"
   ]
  },
  {
   "cell_type": "code",
   "execution_count": null,
   "id": "ed2cdc03",
   "metadata": {},
   "outputs": [],
   "source": [
    "from rake_nltk import Rake\n",
    "rake_nltk_var = Rake()\n",
    "keywords = []\n",
    "for e in extracts:\n",
    "    rake_nltk_var.extract_keywords_from_text(e)\n",
    "    keywords.append(rake_nltk_var.get_ranked_phrases()[:8])"
   ]
  },
  {
   "cell_type": "code",
   "execution_count": null,
   "id": "7a93be22",
   "metadata": {},
   "outputs": [],
   "source": [
    "# lower max_font_size\n",
    "wc = WordCloud(max_font_size=40, background_color=\"black\")\n",
    "wc.stopwords = wc.stopwords.union({'speaker', 'secretary',\n",
    "                                   'state', 'statement',\n",
    "                                  'will', 'make', 'available'\n",
    "                                   'made', 'ask', 'steps', 'b',\n",
    "                                  'assessment', 'made', 'whether',\n",
    "                                  'ensure', 'taking', 'take',\n",
    "                                  'use', 'member', 'minister', 'friend',\n",
    "                                'members', 'hon', 'mr','gentleman',\n",
    "                                 'lady', 'u', ';',\n",
    "                                 'people', 'many'})\n",
    "wordcloud = wc.generate(' '.join([' '.join(k) for k in keywords]))\n",
    "plt.figure( figsize=(25,15) )\n",
    "plt.imshow(wordcloud, interpolation=\"bilinear\")\n",
    "plt.axis(\"off\")\n",
    "plt.show()"
   ]
  },
  {
   "cell_type": "code",
   "execution_count": null,
   "id": "855a7323",
   "metadata": {},
   "outputs": [],
   "source": [
    "rake_nltk_var.get_ranked_phrases()[:8]"
   ]
  },
  {
   "cell_type": "code",
   "execution_count": null,
   "id": "e0adab1b",
   "metadata": {},
   "outputs": [],
   "source": [
    "K = ' '.join([' '.join(k) for k in keywords])"
   ]
  },
  {
   "cell_type": "code",
   "execution_count": null,
   "id": "4a8869c4",
   "metadata": {},
   "outputs": [],
   "source": [
    "K[:128]"
   ]
  },
  {
   "cell_type": "code",
   "execution_count": null,
   "id": "e53e3da9",
   "metadata": {},
   "outputs": [],
   "source": [
    "K.count(' ')"
   ]
  },
  {
   "cell_type": "code",
   "execution_count": null,
   "id": "6ff1dce5",
   "metadata": {},
   "outputs": [],
   "source": []
  }
 ],
 "metadata": {
  "kernelspec": {
   "display_name": "Python 3 (ipykernel)",
   "language": "python",
   "name": "python3"
  },
  "language_info": {
   "codemirror_mode": {
    "name": "ipython",
    "version": 3
   },
   "file_extension": ".py",
   "mimetype": "text/x-python",
   "name": "python",
   "nbconvert_exporter": "python",
   "pygments_lexer": "ipython3",
   "version": "3.9.2"
  },
  "vscode": {
   "interpreter": {
    "hash": "0908775c63350cd29cfcaf2eb8bb5d50eb08daa75b99ca0e6cbe2794ba2097a9"
   }
  }
 },
 "nbformat": 4,
 "nbformat_minor": 5
}
