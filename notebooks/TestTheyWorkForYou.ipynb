{
 "cells": [
  {
   "cell_type": "markdown",
   "id": "b967f63e",
   "metadata": {},
   "source": [
    "# key for theyworkforyou API\n",
    "DN8s9LBm8jMBFZihXEG2gqzx"
   ]
  },
  {
   "cell_type": "code",
   "execution_count": 1,
   "id": "1e7b1e31",
   "metadata": {},
   "outputs": [],
   "source": [
    "APIkey = 'DN8s9LBm8jMBFZihXEG2gqzx'"
   ]
  },
  {
   "cell_type": "code",
   "execution_count": null,
   "id": "2b1b85c1",
   "metadata": {},
   "outputs": [],
   "source": [
    "import requests"
   ]
  },
  {
   "cell_type": "code",
   "execution_count": null,
   "id": "457ef0c7",
   "metadata": {},
   "outputs": [],
   "source": [
    "def getQuota():\n",
    "    quotaurl = 'https://www.theyworkforyou.com/api/getQuota'\n",
    "    response = requests.get(quotaurl, params={'key':APIkey})\n",
    "    return response.json()['quota']"
   ]
  },
  {
   "cell_type": "code",
   "execution_count": null,
   "id": "293760cc",
   "metadata": {},
   "outputs": [],
   "source": [
    "getQuota()"
   ]
  },
  {
   "cell_type": "code",
   "execution_count": null,
   "id": "c8516905",
   "metadata": {},
   "outputs": [],
   "source": [
    "import postcodes_uk"
   ]
  },
  {
   "cell_type": "code",
   "execution_count": null,
   "id": "6d385a45",
   "metadata": {},
   "outputs": [],
   "source": [
    "postcodes_uk.validate('GL205FL')"
   ]
  },
  {
   "cell_type": "code",
   "execution_count": null,
   "id": "9a306250",
   "metadata": {},
   "outputs": [],
   "source": [
    "def getMP(postcode):\n",
    "    postcode = postcode.upper()\n",
    "    params = {'key':APIkey}\n",
    "    if postcodes_uk.validate(postcode):\n",
    "        params['postcode'] = postcode\n",
    "    else:\n",
    "        params['constituency'] = postcode\n",
    "    \n",
    "    url = 'https://www.theyworkforyou.com/api/getMP'\n",
    "    response = requests.get(url, params=params)\n",
    "    return response.json()"
   ]
  },
  {
   "cell_type": "code",
   "execution_count": null,
   "id": "7d659d08",
   "metadata": {},
   "outputs": [],
   "source": [
    "MP = getMP('Tewkesbury')"
   ]
  },
  {
   "cell_type": "code",
   "execution_count": null,
   "id": "755d74e1",
   "metadata": {},
   "outputs": [],
   "source": [
    "MP"
   ]
  },
  {
   "cell_type": "code",
   "execution_count": null,
   "id": "594e950e",
   "metadata": {},
   "outputs": [],
   "source": [
    "def getHansard(personID):\n",
    "    params = {'key':APIkey}\n",
    "    params['person'] = personID\n",
    "    params['num'] = 512\n",
    "    url = 'https://www.theyworkforyou.com/api/getHansard'\n",
    "    response = requests.get(url, params=params)\n",
    "    data = response.json()\n",
    "    params['page'] = 1\n",
    "    print('Getting %d results' % data['info']['total_results'])\n",
    "    while True:\n",
    "        params['page'] += 1\n",
    "        response = requests.get(url, params=params)\n",
    "        data0 = response.json()\n",
    "        if len(data0['rows']) == 0:\n",
    "            break\n",
    "        data['rows'].extend(data0['rows'])\n",
    "        print('%d : %d' % (len(data['rows']), data['info']['total_results']))\n",
    "    return data"
   ]
  },
  {
   "cell_type": "code",
   "execution_count": null,
   "id": "65905341",
   "metadata": {},
   "outputs": [],
   "source": [
    "data = getHansard(MP['person_id'])"
   ]
  },
  {
   "cell_type": "code",
   "execution_count": null,
   "id": "712bff12",
   "metadata": {},
   "outputs": [],
   "source": [
    "#data['rows'][-1]"
   ]
  },
  {
   "cell_type": "code",
   "execution_count": null,
   "id": "9d6fb6b1",
   "metadata": {},
   "outputs": [],
   "source": [
    "\n",
    "\n",
    "from bs4 import BeautifulSoup\n",
    "BeautifulSoup(data['rows'][0]['body'], \"html.parser\").text\n",
    "\n"
   ]
  },
  {
   "cell_type": "code",
   "execution_count": null,
   "id": "df75e4ca",
   "metadata": {},
   "outputs": [],
   "source": [
    "from bs4 import BeautifulSoup\n",
    "import string\n",
    "extracts = [BeautifulSoup(x['body'], 'html.parser').text.lower().translate(str.maketrans('', '', string.punctuation)) for x in data['rows']]"
   ]
  },
  {
   "cell_type": "code",
   "execution_count": null,
   "id": "12e7a894",
   "metadata": {},
   "outputs": [],
   "source": [
    "extracts[0]\n"
   ]
  },
  {
   "cell_type": "code",
   "execution_count": null,
   "id": "5652e77c",
   "metadata": {},
   "outputs": [],
   "source": [
    "extracts = [e for e in extracts if len(e) > 512]"
   ]
  },
  {
   "cell_type": "code",
   "execution_count": null,
   "id": "45f5ea8e",
   "metadata": {},
   "outputs": [],
   "source": [
    "100.0 * len([x for x in extracts if 'horse' in x]) / len(extracts)"
   ]
  },
  {
   "cell_type": "code",
   "execution_count": null,
   "id": "d2bf1078",
   "metadata": {},
   "outputs": [],
   "source": [
    "from wordcloud import WordCloud"
   ]
  },
  {
   "cell_type": "code",
   "execution_count": null,
   "id": "e4fbe2ac",
   "metadata": {},
   "outputs": [],
   "source": [
    "import matplotlib.pyplot as plt\n",
    "\n",
    "# lower max_font_size\n",
    "wc = WordCloud(max_font_size=40, background_color=\"black\")\n",
    "wc.stopwords = wc.stopwords.union({'speaker', 'secretary',\n",
    "                                   'state', 'statement',\n",
    "                                  'will', 'make', 'available'\n",
    "                                   'made', 'ask', 'steps', 'b',\n",
    "                                  'assessment', 'made', 'whether',\n",
    "                                  'ensure', 'taking', 'take',\n",
    "                                  'use', 'member', 'minister', 'friend', 'members', 'hon', 'mr','gentleman', 'lady', 'u', ';'})\n",
    "wordcloud = wc.generate('\\n'.join(extracts).lower())\n",
    "plt.figure( figsize=(25,15) )\n",
    "plt.imshow(wordcloud, interpolation=\"bilinear\")\n",
    "plt.axis(\"off\")\n",
    "plt.show()"
   ]
  },
  {
   "cell_type": "code",
   "execution_count": null,
   "id": "6f2e535c",
   "metadata": {},
   "outputs": [],
   "source": [
    "import nltk\n",
    "nltk.download(\"stopwords\")\n",
    "nltk.download(\"punkt\")\n"
   ]
  },
  {
   "cell_type": "code",
   "execution_count": null,
   "id": "ed2cdc03",
   "metadata": {},
   "outputs": [],
   "source": [
    "from rake_nltk import Rake\n",
    "rake_nltk_var = Rake()\n",
    "keywords = []\n",
    "for e in extracts:\n",
    "    rake_nltk_var.extract_keywords_from_text(e)\n",
    "    keywords.append(rake_nltk_var.get_ranked_phrases()[:8])"
   ]
  },
  {
   "cell_type": "code",
   "execution_count": null,
   "id": "7a93be22",
   "metadata": {},
   "outputs": [],
   "source": [
    "# lower max_font_size\n",
    "wc = WordCloud(max_font_size=40, background_color=\"black\")\n",
    "wc.stopwords = wc.stopwords.union({'speaker', 'secretary',\n",
    "                                   'state', 'statement',\n",
    "                                  'will', 'make', 'available'\n",
    "                                   'made', 'ask', 'steps', 'b',\n",
    "                                  'assessment', 'made', 'whether',\n",
    "                                  'ensure', 'taking', 'take',\n",
    "                                  'use', 'member', 'minister', 'friend',\n",
    "                                'members', 'hon', 'mr','gentleman',\n",
    "                                 'lady', 'u', ';',\n",
    "                                 'people', 'many'})\n",
    "wordcloud = wc.generate(' '.join([' '.join(k) for k in keywords]))\n",
    "plt.figure( figsize=(25,15) )\n",
    "plt.imshow(wordcloud, interpolation=\"bilinear\")\n",
    "plt.axis(\"off\")\n",
    "plt.show()"
   ]
  },
  {
   "cell_type": "code",
   "execution_count": null,
   "id": "855a7323",
   "metadata": {},
   "outputs": [],
   "source": [
    "rake_nltk_var.get_ranked_phrases()[:8]"
   ]
  },
  {
   "cell_type": "code",
   "execution_count": null,
   "id": "e0adab1b",
   "metadata": {},
   "outputs": [],
   "source": [
    "K = ' '.join([' '.join(k) for k in keywords])"
   ]
  },
  {
   "cell_type": "code",
   "execution_count": null,
   "id": "4a8869c4",
   "metadata": {},
   "outputs": [],
   "source": [
    "K[:128]"
   ]
  },
  {
   "cell_type": "code",
   "execution_count": null,
   "id": "e53e3da9",
   "metadata": {},
   "outputs": [],
   "source": [
    "K.count(' ')"
   ]
  },
  {
   "cell_type": "code",
   "execution_count": null,
   "id": "6ff1dce5",
   "metadata": {},
   "outputs": [],
   "source": []
  }
 ],
 "metadata": {
  "kernelspec": {
   "display_name": "Python 3 (ipykernel)",
   "language": "python",
   "name": "python3"
  },
  "language_info": {
   "codemirror_mode": {
    "name": "ipython",
    "version": 3
   },
   "file_extension": ".py",
   "mimetype": "text/x-python",
   "name": "python",
   "nbconvert_exporter": "python",
   "pygments_lexer": "ipython3",
   "version": "3.8.2"
  },
  "vscode": {
   "interpreter": {
    "hash": "0908775c63350cd29cfcaf2eb8bb5d50eb08daa75b99ca0e6cbe2794ba2097a9"
   }
  }
 },
 "nbformat": 4,
 "nbformat_minor": 5
}
