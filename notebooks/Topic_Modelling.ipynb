{
 "cells": [
  {
   "cell_type": "code",
   "execution_count": 4,
   "id": "f2b74429",
   "metadata": {},
   "outputs": [],
   "source": [
    "import sys\n",
    "from sqlitedict import SqliteDict\n",
    "db = SqliteDict(\"Hansard.sqlite\")\n",
    "from wordcloud import STOPWORDS\n",
    "stopwords = set(STOPWORDS)\n",
    "STOPWORDS.add('(b)')\n",
    "STOPWORDS.add('(a)')\n",
    "STOPWORDS.add('(c)')\n",
    "extra_stopwords = ['','b', 'will','ask','make','use', 'state','secretary','hon','members','minister','take','say','many','point','statement','go','(a)','may','great','give','one','years','people','right','member','government','house','need','much','friend','come','()','now','mean','reduce','agree','us','(c)','mr','word','want','tell','end','whether','two','£','%','see','gentleman','put','long','yet']\n",
    "stopwords = set(STOPWORDS)\n",
    "new_stopwords = stopwords.copy()\n",
    "for w in extra_stopwords:\n",
    "    new_stopwords.add(w)\n",
    "stopwords = new_stopwords"
   ]
  },
  {
   "cell_type": "code",
   "execution_count": 18,
   "id": "af78c66a",
   "metadata": {},
   "outputs": [
    {
     "data": {
      "text/plain": [
       "['25165', '10505', '24910']"
      ]
     },
     "execution_count": 18,
     "metadata": {},
     "output_type": "execute_result"
    }
   ],
   "source": [
    "list(db.keys())"
   ]
  },
  {
   "cell_type": "code",
   "execution_count": 25,
   "id": "c36b2235",
   "metadata": {},
   "outputs": [],
   "source": [
    "data = db[24910]\n",
    "speeches = data['speeches']"
   ]
  },
  {
   "cell_type": "code",
   "execution_count": 26,
   "id": "e1f15166",
   "metadata": {},
   "outputs": [],
   "source": [
    "import string\n",
    "from nltk.stem import WordNetLemmatizer\n",
    "import re\n",
    "def preprocess_speeches(speeches, stopwords = [], min_length = 25):\n",
    "    #Removes all punctuation\n",
    "    text = [t.translate(str.maketrans('', '', string.punctuation)) for t in speeches]\n",
    "    #Removes text inside parenthesis\n",
    "    text = [re.sub(r'\\d+', '', t) for t in text]\n",
    "    #Converts text into lowercase, and splits by whitespace\n",
    "    text = [t.lower() for t in text]\n",
    "    text = [' '.join([w for w in t.split() if not w in stopwords]) for t in text]\n",
    "    text = [t for t in text if len(t.split()) >= min_length]\n",
    "    return text"
   ]
  },
  {
   "cell_type": "code",
   "execution_count": 27,
   "id": "d1f56fda",
   "metadata": {},
   "outputs": [],
   "source": [
    "from bertopic import BERTopic\n",
    "from umap import UMAP"
   ]
  },
  {
   "cell_type": "code",
   "execution_count": 28,
   "id": "08ab495c",
   "metadata": {},
   "outputs": [],
   "source": [
    "# Initiate UMAP\n",
    "umap_model = UMAP(n_neighbors=15, \n",
    "                  n_components=5, \n",
    "                  min_dist=0.0, \n",
    "                  metric='cosine', \n",
    "                  random_state=100)\n",
    "# Initiate BERTopic\n",
    "topic_model = BERTopic(umap_model=umap_model, language=\"english\", calculate_probabilities=True, nr_topics=11)"
   ]
  },
  {
   "cell_type": "code",
   "execution_count": 29,
   "id": "b4cefc83",
   "metadata": {},
   "outputs": [],
   "source": [
    "# Run BERTopic model\n",
    "text = preprocess_speeches(speeches, stopwords = stopwords, min_length = 25)\n",
    "topics, probabilities = topic_model.fit_transform(text)"
   ]
  },
  {
   "cell_type": "code",
   "execution_count": 30,
   "id": "c8069e54",
   "metadata": {
    "scrolled": true
   },
   "outputs": [
    {
     "data": {
      "text/html": [
       "<div>\n",
       "<style scoped>\n",
       "    .dataframe tbody tr th:only-of-type {\n",
       "        vertical-align: middle;\n",
       "    }\n",
       "\n",
       "    .dataframe tbody tr th {\n",
       "        vertical-align: top;\n",
       "    }\n",
       "\n",
       "    .dataframe thead th {\n",
       "        text-align: right;\n",
       "    }\n",
       "</style>\n",
       "<table border=\"1\" class=\"dataframe\">\n",
       "  <thead>\n",
       "    <tr style=\"text-align: right;\">\n",
       "      <th></th>\n",
       "      <th>Topic</th>\n",
       "      <th>Count</th>\n",
       "      <th>Name</th>\n",
       "    </tr>\n",
       "  </thead>\n",
       "  <tbody>\n",
       "    <tr>\n",
       "      <th>0</th>\n",
       "      <td>-1</td>\n",
       "      <td>1007</td>\n",
       "      <td>-1_energy_bill_uk_climate</td>\n",
       "    </tr>\n",
       "    <tr>\n",
       "      <th>1</th>\n",
       "      <td>0</td>\n",
       "      <td>993</td>\n",
       "      <td>0_eu_uk_department_health</td>\n",
       "    </tr>\n",
       "    <tr>\n",
       "      <th>2</th>\n",
       "      <td>1</td>\n",
       "      <td>626</td>\n",
       "      <td>1_energy_climate_nuclear_change</td>\n",
       "    </tr>\n",
       "    <tr>\n",
       "      <th>3</th>\n",
       "      <td>2</td>\n",
       "      <td>329</td>\n",
       "      <td>2_tax_exchequer_chancellor_work</td>\n",
       "    </tr>\n",
       "    <tr>\n",
       "      <th>4</th>\n",
       "      <td>3</td>\n",
       "      <td>154</td>\n",
       "      <td>3_vote_voting_mps_system</td>\n",
       "    </tr>\n",
       "    <tr>\n",
       "      <th>5</th>\n",
       "      <td>4</td>\n",
       "      <td>126</td>\n",
       "      <td>4_housing_local_rent_homes</td>\n",
       "    </tr>\n",
       "    <tr>\n",
       "      <th>6</th>\n",
       "      <td>5</td>\n",
       "      <td>125</td>\n",
       "      <td>5_education_women_schools_violence</td>\n",
       "    </tr>\n",
       "    <tr>\n",
       "      <th>7</th>\n",
       "      <td>6</td>\n",
       "      <td>108</td>\n",
       "      <td>6_rail_transport_trains_preston</td>\n",
       "    </tr>\n",
       "    <tr>\n",
       "      <th>8</th>\n",
       "      <td>7</td>\n",
       "      <td>59</td>\n",
       "      <td>7_green_deal_spending_equality</td>\n",
       "    </tr>\n",
       "    <tr>\n",
       "      <th>9</th>\n",
       "      <td>8</td>\n",
       "      <td>55</td>\n",
       "      <td>8_badgers_tb_badger_cattle</td>\n",
       "    </tr>\n",
       "    <tr>\n",
       "      <th>10</th>\n",
       "      <td>9</td>\n",
       "      <td>46</td>\n",
       "      <td>9_drugs_drug_policy_cannabis</td>\n",
       "    </tr>\n",
       "  </tbody>\n",
       "</table>\n",
       "</div>"
      ],
      "text/plain": [
       "    Topic  Count                                Name\n",
       "0      -1   1007           -1_energy_bill_uk_climate\n",
       "1       0    993           0_eu_uk_department_health\n",
       "2       1    626     1_energy_climate_nuclear_change\n",
       "3       2    329     2_tax_exchequer_chancellor_work\n",
       "4       3    154            3_vote_voting_mps_system\n",
       "5       4    126          4_housing_local_rent_homes\n",
       "6       5    125  5_education_women_schools_violence\n",
       "7       6    108     6_rail_transport_trains_preston\n",
       "8       7     59      7_green_deal_spending_equality\n",
       "9       8     55          8_badgers_tb_badger_cattle\n",
       "10      9     46        9_drugs_drug_policy_cannabis"
      ]
     },
     "execution_count": 30,
     "metadata": {},
     "output_type": "execute_result"
    }
   ],
   "source": [
    "topic_model.get_topic_info()"
   ]
  },
  {
   "cell_type": "code",
   "execution_count": null,
   "id": "b2e30983",
   "metadata": {},
   "outputs": [],
   "source": []
  }
 ],
 "metadata": {
  "kernelspec": {
   "display_name": "Python 3 (ipykernel)",
   "language": "python",
   "name": "python3"
  },
  "language_info": {
   "codemirror_mode": {
    "name": "ipython",
    "version": 3
   },
   "file_extension": ".py",
   "mimetype": "text/x-python",
   "name": "python",
   "nbconvert_exporter": "python",
   "pygments_lexer": "ipython3",
   "version": "3.9.2"
  }
 },
 "nbformat": 4,
 "nbformat_minor": 5
}
