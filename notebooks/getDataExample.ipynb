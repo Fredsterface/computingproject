{
 "cells": [
  {
   "cell_type": "code",
   "execution_count": 1,
   "id": "80a37004",
   "metadata": {},
   "outputs": [],
   "source": [
    "APIkey = 'DN8s9LBm8jMBFZihXEG2gqzx'"
   ]
  },
  {
   "cell_type": "code",
   "execution_count": 2,
   "id": "d9b0170f",
   "metadata": {},
   "outputs": [],
   "source": [
    "import requests\n",
    "import postcodes_uk\n",
    "\n",
    "def is_valid_postcode(postcode):\n",
    "    \"\"\"\n",
    "    This function takes one arguments and returns True or False.\n",
    "    \n",
    "    Args:\n",
    "    postcode (str): The postcode\n",
    "    \n",
    "    Returns:\n",
    "    bool: True if a valid postcode, otherwise returns False.\n",
    "    \"\"\"\n",
    "    #making sure the postcode is in uppercase, required for validation\n",
    "    postcode = postcode.upper()\n",
    "    # using the postcodes_uk library to validate the postcode\n",
    "    ret = postcodes_uk.validate(postcode)\n",
    "    return ret\n",
    "\n",
    "def get_MP_info(postcode_or_constituency):\n",
    "    \"\"\"\n",
    "    This function takes one argument, either the postcode or the constituency name, and returns the MP information from Hansard.\n",
    "    \n",
    "    Args:\n",
    "    postcode_or_constituency (str): Postcode or a Constituency\n",
    "    \n",
    "    Returns:\n",
    "    dict: The MP information from Hansard\n",
    "    \"\"\"\n",
    "    # checks to see in the input is a valid postcode\n",
    "    params = {'key':APIkey}\n",
    "    if is_valid_postcode(postcode_or_constituency):\n",
    "        params['postcode'] = postcode_or_constituency\n",
    "    else:\n",
    "        params['constituency'] = postcode_or_constituency\n",
    "    \n",
    "    url = 'https://www.theyworkforyou.com/api/getMP'\n",
    "    response = requests.get(url, params=params)\n",
    "    return response.json()"
   ]
  },
  {
   "cell_type": "code",
   "execution_count": 3,
   "id": "75595041",
   "metadata": {},
   "outputs": [],
   "source": [
    "def get_Hansard(person_id):\n",
    "    \"\"\"\n",
    "    This function takes one argument and returns the MP's person ID from Hansard.\n",
    "    \n",
    "    Args:\n",
    "    personID (int): gets the relevent data from Hansard\n",
    "    \n",
    "    Returns:\n",
    "    int: The personID from Hansard for the relevent MP\n",
    "    \"\"\"\n",
    "    params = {'key':APIkey}\n",
    "    params['person'] = person_id\n",
    "    url = 'https://www.theyworkforyou.com/api/getHansard'\n",
    "    response = requests.get(url, params=params)\n",
    "    data = response.json()\n",
    "    params['page'] = 1\n",
    "    # loops until we have all the pages\n",
    "    while True:\n",
    "        params['page'] += 1\n",
    "        response = requests.get(url, params=params)\n",
    "        data0 = response.json()\n",
    "        if len(data0['rows']) == 0:\n",
    "            break\n",
    "        data['rows'].extend(data0['rows'])\n",
    "    return data"
   ]
  },
  {
   "cell_type": "code",
   "execution_count": 4,
   "id": "98565f88",
   "metadata": {},
   "outputs": [
    {
     "data": {
      "text/plain": [
       "{'member_id': '42617',\n",
       " 'house': '1',\n",
       " 'constituency': 'Tewkesbury',\n",
       " 'party': 'Conservative',\n",
       " 'entered_house': '2019-12-13',\n",
       " 'left_house': '9999-12-31',\n",
       " 'entered_reason': 'general_election',\n",
       " 'left_reason': 'still_in_office',\n",
       " 'person_id': '10505',\n",
       " 'lastupdate': '2019-12-13 05:21:12',\n",
       " 'title': '',\n",
       " 'given_name': 'Laurence',\n",
       " 'family_name': 'Robertson',\n",
       " 'full_name': 'Laurence Robertson',\n",
       " 'url': '/mp/10505/laurence_robertson/tewkesbury',\n",
       " 'image': '/people-images/mpsL/10505.jpg',\n",
       " 'image_height': 160,\n",
       " 'image_width': 120,\n",
       " 'office': [{'moffice_id': 'uk.parliament.data/Member/253/Committee/11/1',\n",
       "   'dept': 'Panel of Chairs',\n",
       "   'position': 'Member',\n",
       "   'from_date': '2020-01-15',\n",
       "   'to_date': '9999-12-31',\n",
       "   'person': '10505',\n",
       "   'source': ''}]}"
      ]
     },
     "execution_count": 4,
     "metadata": {},
     "output_type": "execute_result"
    }
   ],
   "source": [
    "get_MP_info('Tewkesbury')"
   ]
  },
  {
   "cell_type": "code",
   "execution_count": null,
   "id": "856826c1",
   "metadata": {},
   "outputs": [],
   "source": []
  }
 ],
 "metadata": {
  "kernelspec": {
   "display_name": "Python 3 (ipykernel)",
   "language": "python",
   "name": "python3"
  },
  "language_info": {
   "codemirror_mode": {
    "name": "ipython",
    "version": 3
   },
   "file_extension": ".py",
   "mimetype": "text/x-python",
   "name": "python",
   "nbconvert_exporter": "python",
   "pygments_lexer": "ipython3",
   "version": "3.9.2"
  }
 },
 "nbformat": 4,
 "nbformat_minor": 5
}
